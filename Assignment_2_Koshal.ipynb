{
  "nbformat": 4,
  "nbformat_minor": 0,
  "metadata": {
    "colab": {
      "provenance": []
    },
    "kernelspec": {
      "name": "python3",
      "display_name": "Python 3"
    },
    "language_info": {
      "name": "python"
    }
  },
  "cells": [
    {
      "cell_type": "code",
      "execution_count": 1,
      "metadata": {
        "id": "2L8aKquE1adI"
      },
      "outputs": [],
      "source": [
        "#Q-1 What are data structures, and why are they important"
      ]
    },
    {
      "cell_type": "code",
      "source": [
        "'''\n",
        "ans 1 Data structures are specialized containers for organizing data.\n",
        "They enable efficient access and modification of information.\n",
        "Choosing the right structure significantly impacts performance.\n",
        "They are fundamental for effective algorithm design and problem-solving\n",
        "'''"
      ],
      "metadata": {
        "colab": {
          "base_uri": "https://localhost:8080/",
          "height": 52
        },
        "id": "1Q2ZB0yl2TBk",
        "outputId": "9436afea-ff4b-4661-95e8-799246a06d2a"
      },
      "execution_count": 3,
      "outputs": [
        {
          "output_type": "execute_result",
          "data": {
            "text/plain": [
              "'\\nans 1 Data structures are specialized containers for organizing data.\\nThey enable efficient access and modification of information.\\nChoosing the right structure significantly impacts performance.\\nThey are fundamental for effective algorithm design and problem-solving\\n'"
            ],
            "application/vnd.google.colaboratory.intrinsic+json": {
              "type": "string"
            }
          },
          "metadata": {},
          "execution_count": 3
        }
      ]
    },
    {
      "cell_type": "code",
      "source": [
        "#q-2 Explain the difference between mutable and immutable data types with examples"
      ],
      "metadata": {
        "id": "k_ojsNox2Zks"
      },
      "execution_count": 4,
      "outputs": []
    },
    {
      "cell_type": "code",
      "source": [
        "'''\n",
        "ans 2 - Mutable data types can be changed after they are created (in-place modification), while immutable types cannot. For example, lists are mutable; you can add, remove, or change elements directly. Strings, on the other hand, are immutable; any operation that seems to modify a string actually creates a new string object.\n",
        "'''"
      ],
      "metadata": {
        "colab": {
          "base_uri": "https://localhost:8080/",
          "height": 70
        },
        "id": "ayMNW_rz3FuV",
        "outputId": "b50c363e-1b73-482e-c03a-22a1e0f88bf0"
      },
      "execution_count": 5,
      "outputs": [
        {
          "output_type": "execute_result",
          "data": {
            "text/plain": [
              "'\\nans 2 - Mutable data types can be changed after they are created (in-place modification), while immutable types cannot. For example, lists are mutable; you can add, remove, or change elements directly. Strings, on the other hand, are immutable; any operation that seems to modify a string actually creates a new string object.\\n'"
            ],
            "application/vnd.google.colaboratory.intrinsic+json": {
              "type": "string"
            }
          },
          "metadata": {},
          "execution_count": 5
        }
      ]
    },
    {
      "cell_type": "code",
      "source": [
        "# Mutable (list)\n",
        "my_list = [1, 2, 3]\n",
        "my_list.append(4)  # Modifies the original list\n",
        "print(my_list)      # Output: [1, 2, 3, 4]\n",
        "\n",
        "# Immutable (string)\n",
        "my_string = \"hello\"\n",
        "new_string = my_string.upper()  # Creates a new string\n",
        "print(my_string)     # Output: hello (original unchanged)\n",
        "print(new_string)    # Output: HELLO (new string created)"
      ],
      "metadata": {
        "colab": {
          "base_uri": "https://localhost:8080/"
        },
        "id": "8-NZcagh3O0W",
        "outputId": "48584728-9816-42c5-e27a-07c34099441a"
      },
      "execution_count": 6,
      "outputs": [
        {
          "output_type": "stream",
          "name": "stdout",
          "text": [
            "[1, 2, 3, 4]\n",
            "hello\n",
            "HELLO\n"
          ]
        }
      ]
    },
    {
      "cell_type": "code",
      "source": [
        "#q-3 What are the main differences between lists and tuples in Python"
      ],
      "metadata": {
        "id": "frWpN3wo3Zks"
      },
      "execution_count": 7,
      "outputs": []
    },
    {
      "cell_type": "code",
      "source": [
        "'''\n",
        "ans 3 -\n",
        "Lists are mutable sequences, meaning you can change their elements after creation (add, remove, modify). Tuples, however, are immutable sequences; once created, their elements cannot be changed. Lists are typically enclosed in square brackets [], while tuples use parentheses (). Due to their immutability, tuples can sometimes be slightly more efficient and are often used for fixed collections of items.\n",
        "'''"
      ],
      "metadata": {
        "colab": {
          "base_uri": "https://localhost:8080/",
          "height": 70
        },
        "id": "WXBLaFge3l0w",
        "outputId": "6c79f017-33a5-4ef0-c66b-50a7cd5a72f4"
      },
      "execution_count": 8,
      "outputs": [
        {
          "output_type": "execute_result",
          "data": {
            "text/plain": [
              "'\\nans 3 - \\nLists are mutable sequences, meaning you can change their elements after creation (add, remove, modify). Tuples, however, are immutable sequences; once created, their elements cannot be changed. Lists are typically enclosed in square brackets [], while tuples use parentheses (). Due to their immutability, tuples can sometimes be slightly more efficient and are often used for fixed collections of items.\\n'"
            ],
            "application/vnd.google.colaboratory.intrinsic+json": {
              "type": "string"
            }
          },
          "metadata": {},
          "execution_count": 8
        }
      ]
    },
    {
      "cell_type": "code",
      "source": [
        "#q-4 Describe how dictionaries store dataP"
      ],
      "metadata": {
        "id": "gXkHPrtX3sSi"
      },
      "execution_count": 9,
      "outputs": []
    },
    {
      "cell_type": "code",
      "source": [
        "'''\n",
        "ans- 4 - Dictionaries in Python store data as key-value pairs. 1  Each key within a dictionary must be unique and immutable (like strings or numbers), while the corresponding value can be of any data type. 2  You can access the values in a dictionary using their associated keys, providing a fast and efficient way to retrieve data based on a specific identifier. Think of it like a real-world dictionary where you look up a word (the key) to find its definition (the value).\n",
        "'''"
      ],
      "metadata": {
        "colab": {
          "base_uri": "https://localhost:8080/",
          "height": 87
        },
        "id": "u7NaAnQj3zd2",
        "outputId": "572d7652-d5ae-417c-d851-f94cdd2c8a8d"
      },
      "execution_count": 10,
      "outputs": [
        {
          "output_type": "execute_result",
          "data": {
            "text/plain": [
              "'\\nans- 4 - Dictionaries in Python store data as key-value pairs. 1  Each key within a dictionary must be unique and immutable (like strings or numbers), while the corresponding value can be of any data type. 2  You can access the values in a dictionary using their associated keys, providing a fast and efficient way to retrieve data based on a specific identifier. Think of it like a real-world dictionary where you look up a word (the key) to find its definition (the value).\\n'"
            ],
            "application/vnd.google.colaboratory.intrinsic+json": {
              "type": "string"
            }
          },
          "metadata": {},
          "execution_count": 10
        }
      ]
    },
    {
      "cell_type": "code",
      "source": [
        "#q - 5 - Why might you use a set instead of a list in Python"
      ],
      "metadata": {
        "id": "RRjiHehl3_GH"
      },
      "execution_count": 11,
      "outputs": []
    },
    {
      "cell_type": "code",
      "source": [
        "'''\n",
        "ans 5- You might use a set instead of a list when you need to store a collection of unique elements and the order of elements doesn't matter. Sets offer efficient membership testing (checking if an element exists) and automatically remove duplicates. They are also useful for performing set operations like union, intersection, and difference, which can be more cumbersome with lists.\n",
        "'''"
      ],
      "metadata": {
        "colab": {
          "base_uri": "https://localhost:8080/",
          "height": 70
        },
        "id": "KOs8sD5B4PJa",
        "outputId": "f41f2657-8939-40c1-8d4f-4116ff3d920f"
      },
      "execution_count": 12,
      "outputs": [
        {
          "output_type": "execute_result",
          "data": {
            "text/plain": [
              "\"\\nans 5- You might use a set instead of a list when you need to store a collection of unique elements and the order of elements doesn't matter. Sets offer efficient membership testing (checking if an element exists) and automatically remove duplicates. They are also useful for performing set operations like union, intersection, and difference, which can be more cumbersome with lists.\\n\""
            ],
            "application/vnd.google.colaboratory.intrinsic+json": {
              "type": "string"
            }
          },
          "metadata": {},
          "execution_count": 12
        }
      ]
    },
    {
      "cell_type": "code",
      "source": [
        "# Q- 6 - What is a string in Python, and how is it different from a list"
      ],
      "metadata": {
        "id": "CAJc0Tvu4VvL"
      },
      "execution_count": 13,
      "outputs": []
    },
    {
      "cell_type": "code",
      "source": [
        "'''\n",
        "In Python, a string is a sequence of characters used to represent text. It's immutable, meaning once a string is created, you cannot change its individual characters directly. A list, on the other hand, is a mutable sequence of items (which can be of any data type), allowing for modifications like adding, removing, or changing elements after creation. Strings are specifically designed for handling textual data, while lists are more general-purpose containers.\n",
        "'''"
      ],
      "metadata": {
        "colab": {
          "base_uri": "https://localhost:8080/",
          "height": 87
        },
        "id": "L688LA2u4lmf",
        "outputId": "5bb1ba0c-afc9-4d69-c48c-9861dd33f037"
      },
      "execution_count": 14,
      "outputs": [
        {
          "output_type": "execute_result",
          "data": {
            "text/plain": [
              "\"\\nIn Python, a string is a sequence of characters used to represent text. It's immutable, meaning once a string is created, you cannot change its individual characters directly. A list, on the other hand, is a mutable sequence of items (which can be of any data type), allowing for modifications like adding, removing, or changing elements after creation. Strings are specifically designed for handling textual data, while lists are more general-purpose containers.\\n\""
            ],
            "application/vnd.google.colaboratory.intrinsic+json": {
              "type": "string"
            }
          },
          "metadata": {},
          "execution_count": 14
        }
      ]
    },
    {
      "cell_type": "code",
      "source": [
        "#Q - 7 How do tuples ensure data integrity in Python"
      ],
      "metadata": {
        "id": "0ZCKxeTD4opt"
      },
      "execution_count": 15,
      "outputs": []
    },
    {
      "cell_type": "code",
      "source": [
        "'''\n",
        "ANS - 7\n",
        "Tuples ensure data integrity in Python primarily through their immutability. Once a tuple is created, its contents cannot be altered. This prevents accidental modifications to the data, ensuring that the values remain constant throughout the program's execution. 1  This immutability makes tuples suitable for representing fixed collections of related items where changes are not desired or should be prevented\n",
        "'''"
      ],
      "metadata": {
        "colab": {
          "base_uri": "https://localhost:8080/",
          "height": 70
        },
        "id": "9Ca0oXsI4y-9",
        "outputId": "d2b80589-3854-4d5f-f453-784826743aef"
      },
      "execution_count": 16,
      "outputs": [
        {
          "output_type": "execute_result",
          "data": {
            "text/plain": [
              "\"\\nANS - 7 \\nTuples ensure data integrity in Python primarily through their immutability. Once a tuple is created, its contents cannot be altered. This prevents accidental modifications to the data, ensuring that the values remain constant throughout the program's execution. 1  This immutability makes tuples suitable for representing fixed collections of related items where changes are not desired or should be prevented\\n\""
            ],
            "application/vnd.google.colaboratory.intrinsic+json": {
              "type": "string"
            }
          },
          "metadata": {},
          "execution_count": 16
        }
      ]
    },
    {
      "cell_type": "code",
      "source": [
        "#Q - 8  What is a hash table, and how does it relate to dictionaries in Python"
      ],
      "metadata": {
        "id": "mLCGbvZz49dT"
      },
      "execution_count": 17,
      "outputs": []
    },
    {
      "cell_type": "code",
      "source": [
        "'''\n",
        "ANS - 8\n",
        "A hash table is a data structure that uses a hash function to map keys to indices in an array, allowing for efficient data retrieval (average O(1) time complexity). Dictionaries in Python are implemented using hash tables. The keys of the dictionary are hashed to determine where their corresponding values are stored in the underlying hash table, enabling quick lookups, insertions, and deletions.\n",
        "'''"
      ],
      "metadata": {
        "colab": {
          "base_uri": "https://localhost:8080/",
          "height": 70
        },
        "id": "OZKsFe8X5Luj",
        "outputId": "7d9bc296-b2b5-458e-ab58-31c31da994d6"
      },
      "execution_count": 18,
      "outputs": [
        {
          "output_type": "execute_result",
          "data": {
            "text/plain": [
              "'\\nANS - 8\\nA hash table is a data structure that uses a hash function to map keys to indices in an array, allowing for efficient data retrieval (average O(1) time complexity). Dictionaries in Python are implemented using hash tables. The keys of the dictionary are hashed to determine where their corresponding values are stored in the underlying hash table, enabling quick lookups, insertions, and deletions.\\n'"
            ],
            "application/vnd.google.colaboratory.intrinsic+json": {
              "type": "string"
            }
          },
          "metadata": {},
          "execution_count": 18
        }
      ]
    },
    {
      "cell_type": "code",
      "source": [
        "#Q - 9 Can lists contain different data types in Python"
      ],
      "metadata": {
        "id": "5nRF8GkN5TZl"
      },
      "execution_count": 19,
      "outputs": []
    },
    {
      "cell_type": "code",
      "source": [
        "'''\n",
        "ANS - 9\n",
        "Yes, lists in Python are very flexible and can indeed contain elements of different data types within the same list. 1  For example, you can have a list containing integers, strings, booleans, and even other lists or tuples all at once. 2  This dynamic typing is a key feature of Python lists\n",
        "'''"
      ],
      "metadata": {
        "colab": {
          "base_uri": "https://localhost:8080/",
          "height": 70
        },
        "id": "YRF7Bvfm5Ylh",
        "outputId": "99283d9b-9eeb-48a1-f0bf-79735d940521"
      },
      "execution_count": 21,
      "outputs": [
        {
          "output_type": "execute_result",
          "data": {
            "text/plain": [
              "'\\nANS - 9 \\nYes, lists in Python are very flexible and can indeed contain elements of different data types within the same list. 1  For example, you can have a list containing integers, strings, booleans, and even other lists or tuples all at once. 2  This dynamic typing is a key feature of Python lists\\n'"
            ],
            "application/vnd.google.colaboratory.intrinsic+json": {
              "type": "string"
            }
          },
          "metadata": {},
          "execution_count": 21
        }
      ]
    },
    {
      "cell_type": "code",
      "source": [
        "# Q - 10 Explain why strings are immutable in Python"
      ],
      "metadata": {
        "id": "fwH1g3L55ao3"
      },
      "execution_count": 22,
      "outputs": []
    },
    {
      "cell_type": "code",
      "source": [
        "'''\n",
        "ANS - 10\n",
        "Strings are immutable in Python primarily for efficiency and consistency. Immutability allows Python to optimize memory allocation for strings, as the size is fixed upon creation. It also prevents unintended side effects when multiple variables refer to the same string; changes made through one variable won't affect others. Furthermore, strings are often used as keys in dictionaries, and immutability is a requirement for hashable keys.\n",
        "'''"
      ],
      "metadata": {
        "colab": {
          "base_uri": "https://localhost:8080/",
          "height": 87
        },
        "id": "GhRmqaEy5nPH",
        "outputId": "a1046919-3865-4d84-986e-3851a4a66653"
      },
      "execution_count": 23,
      "outputs": [
        {
          "output_type": "execute_result",
          "data": {
            "text/plain": [
              "\"\\nANS - 10\\nStrings are immutable in Python primarily for efficiency and consistency. Immutability allows Python to optimize memory allocation for strings, as the size is fixed upon creation. It also prevents unintended side effects when multiple variables refer to the same string; changes made through one variable won't affect others. Furthermore, strings are often used as keys in dictionaries, and immutability is a requirement for hashable keys.\\n\""
            ],
            "application/vnd.google.colaboratory.intrinsic+json": {
              "type": "string"
            }
          },
          "metadata": {},
          "execution_count": 23
        }
      ]
    },
    {
      "cell_type": "code",
      "source": [
        "#Q - 11 What advantages do dictionaries offer over lists for certain tasks"
      ],
      "metadata": {
        "id": "_w-M_xEC5v7t"
      },
      "execution_count": 24,
      "outputs": []
    },
    {
      "cell_type": "code",
      "source": [
        "'''\n",
        "ANS - 11 Dictionaries are better than lists when you need to:\n",
        "\n",
        "Quickly find values using a specific key (like looking up a word in a dictionary).\n",
        "Organize data with meaningful labels instead of just positions.\n",
        "Easily check if a key exists.\n",
        "Work with data where each item has a unique identifier.\n",
        "Essentially, dictionaries offer fast lookups by key and more meaningful organization compared to the ordered, index-based structure of lists.\n",
        "'''"
      ],
      "metadata": {
        "colab": {
          "base_uri": "https://localhost:8080/",
          "height": 87
        },
        "id": "hHkTDyOD55vl",
        "outputId": "b6810d4a-7bd9-4d34-d4de-b874e132817c"
      },
      "execution_count": 25,
      "outputs": [
        {
          "output_type": "execute_result",
          "data": {
            "text/plain": [
              "'\\nANS - 11 Dictionaries are better than lists when you need to:\\n\\nQuickly find values using a specific key (like looking up a word in a dictionary).\\nOrganize data with meaningful labels instead of just positions.\\nEasily check if a key exists.\\nWork with data where each item has a unique identifier.\\nEssentially, dictionaries offer fast lookups by key and more meaningful organization compared to the ordered, index-based structure of lists.\\n'"
            ],
            "application/vnd.google.colaboratory.intrinsic+json": {
              "type": "string"
            }
          },
          "metadata": {},
          "execution_count": 25
        }
      ]
    },
    {
      "cell_type": "code",
      "source": [
        "#Q - 12 Describe a scenario where using a tuple would be preferable over a list"
      ],
      "metadata": {
        "id": "96qod1Zp6F2G"
      },
      "execution_count": 26,
      "outputs": []
    },
    {
      "cell_type": "code",
      "source": [
        "'''\n",
        "ANS - 12\n",
        " Consider representing a color using its RGB values, like (255, 0, 0) for red. You want these three numbers to always represent red and not be accidentally altered individually.\n",
        "\n",
        "Tuples, unlike lists, are immutable, meaning their elements cannot be changed after creation. This immutability ensures that the RGB values for red remain consistently (255, 0, 0).\n",
        "\n",
        "If you used a list, there's a risk of someone mistakenly changing a value, breaking the intended representation of the color.\n",
        "\n",
        "Therefore, for fixed collections of related items where you want to prevent accidental modification and maintain data integrity, tuples are the preferable choice over lists. They offer a guarantee of stability.\n",
        "'''"
      ],
      "metadata": {
        "colab": {
          "base_uri": "https://localhost:8080/",
          "height": 104
        },
        "id": "wB9byR9C6KP1",
        "outputId": "bd97c17f-f40c-40be-9429-54eaee216041"
      },
      "execution_count": 27,
      "outputs": [
        {
          "output_type": "execute_result",
          "data": {
            "text/plain": [
              "\"\\nANS - 12\\n Consider representing a color using its RGB values, like (255, 0, 0) for red. You want these three numbers to always represent red and not be accidentally altered individually.\\n\\nTuples, unlike lists, are immutable, meaning their elements cannot be changed after creation. This immutability ensures that the RGB values for red remain consistently (255, 0, 0).\\n\\nIf you used a list, there's a risk of someone mistakenly changing a value, breaking the intended representation of the color.\\n\\nTherefore, for fixed collections of related items where you want to prevent accidental modification and maintain data integrity, tuples are the preferable choice over lists. They offer a guarantee of stability.\\n\""
            ],
            "application/vnd.google.colaboratory.intrinsic+json": {
              "type": "string"
            }
          },
          "metadata": {},
          "execution_count": 27
        }
      ]
    },
    {
      "cell_type": "code",
      "source": [
        "# Q - 13 How do sets handle duplicate values in Python"
      ],
      "metadata": {
        "id": "ptiSBV816Q2n"
      },
      "execution_count": 28,
      "outputs": []
    },
    {
      "cell_type": "code",
      "source": [
        "'''\n",
        "ANS 13 -\n",
        " Python sets automatically eliminate duplicate values. If you attempt to add an element that's already present in the set, no new element is added. The set's size remains the same, and it retains only one instance of that value. This inherent behavior makes sets ideal for tasks like removing duplicates from a collection.\n",
        " '''"
      ],
      "metadata": {
        "colab": {
          "base_uri": "https://localhost:8080/",
          "height": 70
        },
        "id": "8GQH9HtU6WfD",
        "outputId": "c6c56bb4-3967-4cda-c86e-d31d339e3e58"
      },
      "execution_count": 29,
      "outputs": [
        {
          "output_type": "execute_result",
          "data": {
            "text/plain": [
              "\"\\nANS 13 - \\n Python sets automatically eliminate duplicate values. If you attempt to add an element that's already present in the set, no new element is added. The set's size remains the same, and it retains only one instance of that value. This inherent behavior makes sets ideal for tasks like removing duplicates from a collection.\\n \""
            ],
            "application/vnd.google.colaboratory.intrinsic+json": {
              "type": "string"
            }
          },
          "metadata": {},
          "execution_count": 29
        }
      ]
    },
    {
      "cell_type": "code",
      "source": [
        "#Q - 14 How does the “in” keyword work differently for lists and dictionaries"
      ],
      "metadata": {
        "id": "Uym_aCZL6boz"
      },
      "execution_count": 30,
      "outputs": []
    },
    {
      "cell_type": "code",
      "source": [
        "'''\n",
        "ANS - 14\n",
        "The in keyword checks for different things in lists and dictionaries. For a *list, in iterates through the elements to see if a specific *value exists. For a *dictionary, in efficiently checks if a specific *key exists in the dictionary's keys. This key-based check in dictionaries is much faster on average than the element-by-element search in lists.\n",
        "'''"
      ],
      "metadata": {
        "colab": {
          "base_uri": "https://localhost:8080/",
          "height": 70
        },
        "id": "N3n5Ak4R6hlQ",
        "outputId": "65062f0d-ac59-42ed-aed8-13e1b3d2b510"
      },
      "execution_count": 31,
      "outputs": [
        {
          "output_type": "execute_result",
          "data": {
            "text/plain": [
              "\"\\nANS - 14\\nThe in keyword checks for different things in lists and dictionaries. For a *list, in iterates through the elements to see if a specific *value exists. For a *dictionary, in efficiently checks if a specific *key exists in the dictionary's keys. This key-based check in dictionaries is much faster on average than the element-by-element search in lists.\\n\""
            ],
            "application/vnd.google.colaboratory.intrinsic+json": {
              "type": "string"
            }
          },
          "metadata": {},
          "execution_count": 31
        }
      ]
    },
    {
      "cell_type": "code",
      "source": [
        "# Q - 15 Can you modify the elements of a tuple? Explain why or why not"
      ],
      "metadata": {
        "id": "SqUHk-V36qKd"
      },
      "execution_count": 32,
      "outputs": []
    },
    {
      "cell_type": "code",
      "source": [
        "'''\n",
        "ANS - 15\n",
        "No, you cannot directly modify the elements of a tuple after it's created. This is because tuples are *immutable* data structures in Python. Immutability means that once a tuple is defined, its contents (the elements and their order) cannot be changed. This design choice makes tuples useful for representing fixed collections of items.\n",
        "'''"
      ],
      "metadata": {
        "colab": {
          "base_uri": "https://localhost:8080/",
          "height": 70
        },
        "id": "vD8C60rg6w2V",
        "outputId": "44139eb9-976a-4c3e-b76c-3aefd40d7a6b"
      },
      "execution_count": 33,
      "outputs": [
        {
          "output_type": "execute_result",
          "data": {
            "text/plain": [
              "\"\\nANS - 15 \\nNo, you cannot directly modify the elements of a tuple after it's created. This is because tuples are *immutable* data structures in Python. Immutability means that once a tuple is defined, its contents (the elements and their order) cannot be changed. This design choice makes tuples useful for representing fixed collections of items.\\n\""
            ],
            "application/vnd.google.colaboratory.intrinsic+json": {
              "type": "string"
            }
          },
          "metadata": {},
          "execution_count": 33
        }
      ]
    },
    {
      "cell_type": "code",
      "source": [
        "#Q - 16 What is a nested dictionary, and give an example of its use case"
      ],
      "metadata": {
        "id": "YO3RC5x-62R1"
      },
      "execution_count": 34,
      "outputs": []
    },
    {
      "cell_type": "code",
      "source": [
        "'''\n",
        "ANS - 16\n",
        " A nested dictionary is a dictionary where the values associated with keys are themselves dictionaries. Think of it as dictionaries within dictionaries, creating a hierarchical structure. This allows you to represent more complex and organized data where categories or sub-categories are involved. For example, you could use a nested dictionary to store student information, where each student's ID is a key, and the value is another dictionary containing their name, grades, and contact details.\n",
        " '''"
      ],
      "metadata": {
        "colab": {
          "base_uri": "https://localhost:8080/",
          "height": 87
        },
        "id": "CzrnHE_O66lF",
        "outputId": "080fe256-5075-4ad9-8a16-e8656a4cac20"
      },
      "execution_count": 35,
      "outputs": [
        {
          "output_type": "execute_result",
          "data": {
            "text/plain": [
              "\"\\nANS - 16 \\n A nested dictionary is a dictionary where the values associated with keys are themselves dictionaries. Think of it as dictionaries within dictionaries, creating a hierarchical structure. This allows you to represent more complex and organized data where categories or sub-categories are involved. For example, you could use a nested dictionary to store student information, where each student's ID is a key, and the value is another dictionary containing their name, grades, and contact details.\\n \""
            ],
            "application/vnd.google.colaboratory.intrinsic+json": {
              "type": "string"
            }
          },
          "metadata": {},
          "execution_count": 35
        }
      ]
    },
    {
      "cell_type": "code",
      "source": [
        "# Q - 17 Describe the time complexity of accessing elements in a dictionary"
      ],
      "metadata": {
        "id": "1jfTbyg76_8j"
      },
      "execution_count": 36,
      "outputs": []
    },
    {
      "cell_type": "code",
      "source": [
        "'''\n",
        "ANS -17\n",
        "Accessing elements in a dictionary by key in Python has an average time complexity of O(1), which is considered constant time. This efficiency is due to the underlying hash table implementation. The hash function allows Python to directly compute the memory location of the value associated with a given key, enabling very fast lookups on average. In the worst-case scenario (e.g., hash collisions), the time complexity can degrade to O(n), but this is relatively rare in practice with a good hash function.\n",
        "'''"
      ],
      "metadata": {
        "colab": {
          "base_uri": "https://localhost:8080/",
          "height": 87
        },
        "id": "zIGHWJRv7Qaw",
        "outputId": "d4722d7c-1e12-41e6-97a7-314dc942b6f3"
      },
      "execution_count": 37,
      "outputs": [
        {
          "output_type": "execute_result",
          "data": {
            "text/plain": [
              "'\\nANS -17\\nAccessing elements in a dictionary by key in Python has an average time complexity of O(1), which is considered constant time. This efficiency is due to the underlying hash table implementation. The hash function allows Python to directly compute the memory location of the value associated with a given key, enabling very fast lookups on average. In the worst-case scenario (e.g., hash collisions), the time complexity can degrade to O(n), but this is relatively rare in practice with a good hash function.\\n'"
            ],
            "application/vnd.google.colaboratory.intrinsic+json": {
              "type": "string"
            }
          },
          "metadata": {},
          "execution_count": 37
        }
      ]
    },
    {
      "cell_type": "code",
      "source": [
        "# Q - 18 In what situations are lists preferred over dictionaries"
      ],
      "metadata": {
        "id": "2x5yodXZ7ZKX"
      },
      "execution_count": 38,
      "outputs": []
    },
    {
      "cell_type": "code",
      "source": [
        "'''\n",
        "ANS - 18\n",
        "Lists are preferred when the *order of items is important* and you need to access elements by their numerical *index* (position). They are also suitable when you have a collection of items where *duplicate values are allowed* and the relationships between items aren't based on unique keys. For example, storing a sequence of events or a list of names where the order matters would favor using a list.\n",
        "'''"
      ],
      "metadata": {
        "colab": {
          "base_uri": "https://localhost:8080/",
          "height": 70
        },
        "id": "hcaV5pXj7m-V",
        "outputId": "3f8a8105-2a2d-42b4-dc1e-292efad80245"
      },
      "execution_count": 39,
      "outputs": [
        {
          "output_type": "execute_result",
          "data": {
            "text/plain": [
              "\"\\nANS - 18\\nLists are preferred when the *order of items is important* and you need to access elements by their numerical *index* (position). They are also suitable when you have a collection of items where *duplicate values are allowed* and the relationships between items aren't based on unique keys. For example, storing a sequence of events or a list of names where the order matters would favor using a list.\\n\""
            ],
            "application/vnd.google.colaboratory.intrinsic+json": {
              "type": "string"
            }
          },
          "metadata": {},
          "execution_count": 39
        }
      ]
    },
    {
      "cell_type": "code",
      "source": [
        "# Q - 19  Why are dictionaries considered unordered, and how does that affect data retrieval"
      ],
      "metadata": {
        "id": "lL1GVILw7xGF"
      },
      "execution_count": 40,
      "outputs": []
    },
    {
      "cell_type": "code",
      "source": [
        "'''\n",
        "ANS - 19\n",
        "Dictionaries in Python (before version 3.7) were considered unordered because the order in which you insert key-value pairs was not guaranteed to be preserved when you iterated through the dictionary. This meant you couldn't rely on a specific sequence of items when retrieving data. However, starting with Python 3.7, dictionaries remember insertion order, so while they are still primarily accessed by key, the order of iteration is now predictable.\n",
        "'''"
      ],
      "metadata": {
        "colab": {
          "base_uri": "https://localhost:8080/",
          "height": 87
        },
        "id": "SniWIoJz71w7",
        "outputId": "beb92fa0-88bc-49a8-c7df-43ca150c1749"
      },
      "execution_count": 41,
      "outputs": [
        {
          "output_type": "execute_result",
          "data": {
            "text/plain": [
              "\"\\nANS - 19\\nDictionaries in Python (before version 3.7) were considered unordered because the order in which you insert key-value pairs was not guaranteed to be preserved when you iterated through the dictionary. This meant you couldn't rely on a specific sequence of items when retrieving data. However, starting with Python 3.7, dictionaries remember insertion order, so while they are still primarily accessed by key, the order of iteration is now predictable.\\n\""
            ],
            "application/vnd.google.colaboratory.intrinsic+json": {
              "type": "string"
            }
          },
          "metadata": {},
          "execution_count": 41
        }
      ]
    },
    {
      "cell_type": "code",
      "source": [
        "# Q - 20 Explain the difference between a list and a dictionary in terms of data retrieval"
      ],
      "metadata": {
        "id": "ue0RKQ_U750r"
      },
      "execution_count": 42,
      "outputs": []
    },
    {
      "cell_type": "code",
      "source": [
        "'''\n",
        "ANS - 20\n",
        "Lists retrieve data based on their *numerical index* (position), requiring you to know where the element is located. Dictionaries, on the other hand, retrieve data based on unique *keys* that you define, allowing for direct and often faster access if you know the key. Think of a list like finding a book on a shelf by its number, and a dictionary like finding a definition by looking up the word.\n",
        "'''"
      ],
      "metadata": {
        "colab": {
          "base_uri": "https://localhost:8080/",
          "height": 70
        },
        "id": "j2C57LwJ7_F-",
        "outputId": "2c476b0a-5709-43c9-f4ad-5bd8669e76fb"
      },
      "execution_count": 43,
      "outputs": [
        {
          "output_type": "execute_result",
          "data": {
            "text/plain": [
              "'\\nANS - 20 \\nLists retrieve data based on their *numerical index* (position), requiring you to know where the element is located. Dictionaries, on the other hand, retrieve data based on unique *keys* that you define, allowing for direct and often faster access if you know the key. Think of a list like finding a book on a shelf by its number, and a dictionary like finding a definition by looking up the word.\\n'"
            ],
            "application/vnd.google.colaboratory.intrinsic+json": {
              "type": "string"
            }
          },
          "metadata": {},
          "execution_count": 43
        }
      ]
    },
    {
      "cell_type": "code",
      "source": [
        "####################################################### PRACTICAL QUES####################################"
      ],
      "metadata": {
        "id": "GFA9aDnW8FTO"
      },
      "execution_count": 44,
      "outputs": []
    },
    {
      "cell_type": "code",
      "source": [
        "# Q1 Write a code to create a string with your name and print it"
      ],
      "metadata": {
        "id": "4gf3DsPH8KQx"
      },
      "execution_count": 45,
      "outputs": []
    },
    {
      "cell_type": "code",
      "source": [
        "#ANS 1: # Create a string variable named 'my_name' and assign my name to it.\n",
        "my_name = \"Abc\"  # Replace with your actual name if needed.\n",
        "\n",
        "# Print the value of the 'my_name' variable to the console.\n",
        "print(my_name)"
      ],
      "metadata": {
        "colab": {
          "base_uri": "https://localhost:8080/"
        },
        "id": "x533kqA-8TGJ",
        "outputId": "79430900-84f4-46cd-9c43-00551ec944b1"
      },
      "execution_count": 48,
      "outputs": [
        {
          "output_type": "stream",
          "name": "stdout",
          "text": [
            "Abc\n"
          ]
        }
      ]
    },
    {
      "cell_type": "code",
      "source": [
        "#Q2 Write a code to find the length of the string \"Hello World\""
      ],
      "metadata": {
        "id": "jeMXNqgg8YsL"
      },
      "execution_count": 49,
      "outputs": []
    },
    {
      "cell_type": "code",
      "source": [
        "#ANS 2: # Define the string\n",
        "my_string = \"Hello World\"\n",
        "\n",
        "# Calculate the length of the string\n",
        "string_length = len(my_string)\n",
        "\n",
        "# Print the length of the string\n",
        "print(string_length)"
      ],
      "metadata": {
        "colab": {
          "base_uri": "https://localhost:8080/"
        },
        "id": "qFko6D_-8pYW",
        "outputId": "3302c8f5-6858-402a-e4bd-7d3d3a4b3eeb"
      },
      "execution_count": 50,
      "outputs": [
        {
          "output_type": "stream",
          "name": "stdout",
          "text": [
            "11\n"
          ]
        }
      ]
    },
    {
      "cell_type": "code",
      "source": [
        "#Q3 Write a code to slice the first 3 characters from the string \"Python Programming\""
      ],
      "metadata": {
        "id": "Aks7KTCm8yKk"
      },
      "execution_count": 51,
      "outputs": []
    },
    {
      "cell_type": "code",
      "source": [
        "#ANS 3: # Define the string\n",
        "my_string = \"Python Programming\"\n",
        "\n",
        "# Slice the first 3 characters (from index 0 up to, but not including, index 3)\n",
        "sliced_string = my_string[0:3]\n",
        "\n",
        "# Print the sliced string\n",
        "print(sliced_string)"
      ],
      "metadata": {
        "colab": {
          "base_uri": "https://localhost:8080/"
        },
        "id": "qAckLWPy82OK",
        "outputId": "1c0af6cd-c991-401f-b81d-523423901694"
      },
      "execution_count": 52,
      "outputs": [
        {
          "output_type": "stream",
          "name": "stdout",
          "text": [
            "Pyt\n"
          ]
        }
      ]
    },
    {
      "cell_type": "code",
      "source": [
        "#Q4 Write a code to convert the string \"hello\" to uppercase"
      ],
      "metadata": {
        "id": "REFmjPLp85uC"
      },
      "execution_count": 53,
      "outputs": []
    },
    {
      "cell_type": "code",
      "source": [
        "#ANS 4: # Define the string\n",
        "my_string = \"hello\"\n",
        "\n",
        "# Convert the string to uppercase\n",
        "uppercase_string = my_string.upper()\n",
        "\n",
        "# Print the uppercase string\n",
        "print(uppercase_string)"
      ],
      "metadata": {
        "colab": {
          "base_uri": "https://localhost:8080/"
        },
        "id": "fvto4eGH8_me",
        "outputId": "62a3a83e-8fe3-41ab-bb3d-2886e79ae404"
      },
      "execution_count": 54,
      "outputs": [
        {
          "output_type": "stream",
          "name": "stdout",
          "text": [
            "HELLO\n"
          ]
        }
      ]
    },
    {
      "cell_type": "code",
      "source": [
        "#Q5 Write a code to replace the word \"apple\" with \"orange\" in the string \"I like apple\""
      ],
      "metadata": {
        "id": "rul5Z5It9C2x"
      },
      "execution_count": 55,
      "outputs": []
    },
    {
      "cell_type": "code",
      "source": [
        "#ANS 5: # Define the string\n",
        "my_string = \"I like apple\"\n",
        "\n",
        "# Replace \"apple\" with \"orange\"\n",
        "new_string = my_string.replace(\"apple\", \"orange\")\n",
        "\n",
        "# Print the new string\n",
        "print(new_string)"
      ],
      "metadata": {
        "colab": {
          "base_uri": "https://localhost:8080/"
        },
        "id": "7J0pheTg9G2b",
        "outputId": "bab66c6f-3bbe-4acd-c22d-194bd64d2666"
      },
      "execution_count": 56,
      "outputs": [
        {
          "output_type": "stream",
          "name": "stdout",
          "text": [
            "I like orange\n"
          ]
        }
      ]
    },
    {
      "cell_type": "code",
      "source": [
        "#Q6 Write a code to create a list with numbers 1 to 5 and print it"
      ],
      "metadata": {
        "id": "dvnf-5yM9Mlm"
      },
      "execution_count": 57,
      "outputs": []
    },
    {
      "cell_type": "code",
      "source": [
        "#ANS 6: # Create a list containing the numbers 1 to 5.\n",
        "my_list = [1, 2, 3, 4, 5]\n",
        "\n",
        "# Print the list.\n",
        "print(my_list)"
      ],
      "metadata": {
        "colab": {
          "base_uri": "https://localhost:8080/"
        },
        "id": "JWYubz3M9RU-",
        "outputId": "821217f1-c37d-4dd6-a69a-143d96534891"
      },
      "execution_count": 58,
      "outputs": [
        {
          "output_type": "stream",
          "name": "stdout",
          "text": [
            "[1, 2, 3, 4, 5]\n"
          ]
        }
      ]
    },
    {
      "cell_type": "code",
      "source": [
        "#Q7 Write a code to append the number 10 to the list [1, 2, 3, 4]"
      ],
      "metadata": {
        "id": "ePQ1VVHu9U8a"
      },
      "execution_count": 59,
      "outputs": []
    },
    {
      "cell_type": "code",
      "source": [
        "#ANS 7: # Create a list\n",
        "my_list = [1, 2, 3, 4]\n",
        "\n",
        "# Append the number 10 to the list\n",
        "my_list.append(10)\n",
        "\n",
        "# Print the updated list\n",
        "print(my_list)"
      ],
      "metadata": {
        "colab": {
          "base_uri": "https://localhost:8080/"
        },
        "id": "9pF810eL9Zlp",
        "outputId": "c43c728b-0d61-499c-b681-15a4b1a18be3"
      },
      "execution_count": 60,
      "outputs": [
        {
          "output_type": "stream",
          "name": "stdout",
          "text": [
            "[1, 2, 3, 4, 10]\n"
          ]
        }
      ]
    },
    {
      "cell_type": "code",
      "source": [
        "#Q8 Write a code to remove the number 3 from the list [1, 2, 3, 4, 5]"
      ],
      "metadata": {
        "id": "YcJuRbvQ9eWQ"
      },
      "execution_count": 61,
      "outputs": []
    },
    {
      "cell_type": "code",
      "source": [
        "#ANS 8: # Create a list\n",
        "my_list = [1, 2, 3, 4, 5]\n",
        "\n",
        "# Remove the number 3 from the list\n",
        "my_list.remove(3)\n",
        "\n",
        "# Print the updated list\n",
        "print(my_list)"
      ],
      "metadata": {
        "colab": {
          "base_uri": "https://localhost:8080/"
        },
        "id": "y51n0K849iKU",
        "outputId": "e5dd600c-6ea3-455f-a5f6-fc5cb5def434"
      },
      "execution_count": 62,
      "outputs": [
        {
          "output_type": "stream",
          "name": "stdout",
          "text": [
            "[1, 2, 4, 5]\n"
          ]
        }
      ]
    },
    {
      "cell_type": "code",
      "source": [
        "#Q9 Write a code to access the second element in the list ['a', 'b', 'c', 'd']"
      ],
      "metadata": {
        "id": "Q7k5HRJS9kDC"
      },
      "execution_count": 63,
      "outputs": []
    },
    {
      "cell_type": "code",
      "source": [
        "#ANS 9: # Create a list\n",
        "my_list = ['a', 'b', 'c', 'd']\n",
        "\n",
        "# Access the second element (index 1)\n",
        "second_element = my_list[1]\n",
        "\n",
        "# Print the second element\n",
        "print(second_element)"
      ],
      "metadata": {
        "colab": {
          "base_uri": "https://localhost:8080/"
        },
        "id": "vzF6IQ0g9ng-",
        "outputId": "25c21050-5c94-49ff-ce5b-c054de1db00c"
      },
      "execution_count": 64,
      "outputs": [
        {
          "output_type": "stream",
          "name": "stdout",
          "text": [
            "b\n"
          ]
        }
      ]
    },
    {
      "cell_type": "code",
      "source": [
        "#Q10 Write a code to reverse the list [10, 20, 30, 40, 50]"
      ],
      "metadata": {
        "id": "L2_I7lfZ9rSS"
      },
      "execution_count": 65,
      "outputs": []
    },
    {
      "cell_type": "code",
      "source": [
        "#ANS 10: # Create a list\n",
        "my_list = [10, 20, 30, 40, 50]\n",
        "\n",
        "# Reverse the list using the reversed() function and convert it back to a list\n",
        "reversed_list = list(reversed(my_list))\n",
        "\n",
        "# Print the reversed list\n",
        "print(reversed_list)\n",
        "\n",
        "#Alternative approach\n",
        "#my_list.reverse()\n",
        "#print(my_list)"
      ],
      "metadata": {
        "colab": {
          "base_uri": "https://localhost:8080/"
        },
        "id": "W4Dy-GfE9u4w",
        "outputId": "ebebc9ae-5a1f-4282-c029-098747820245"
      },
      "execution_count": 66,
      "outputs": [
        {
          "output_type": "stream",
          "name": "stdout",
          "text": [
            "[50, 40, 30, 20, 10]\n"
          ]
        }
      ]
    },
    {
      "cell_type": "code",
      "source": [],
      "metadata": {
        "id": "YhVPGiE69ysm"
      },
      "execution_count": null,
      "outputs": []
    }
  ]
}